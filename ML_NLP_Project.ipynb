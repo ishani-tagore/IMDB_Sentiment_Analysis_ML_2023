{
  "nbformat": 4,
  "nbformat_minor": 0,
  "metadata": {
    "colab": {
      "provenance": []
    },
    "kernelspec": {
      "name": "python3",
      "display_name": "Python 3"
    },
    "language_info": {
      "name": "python"
    }
  },
  "cells": [
    {
      "cell_type": "markdown",
      "source": [
        "## Data Preprocessing"
      ],
      "metadata": {
        "id": "_VV_4BNiFIoc"
      }
    },
    {
      "cell_type": "code",
      "source": [
        "from google.colab import drive\n",
        "drive.mount('/content/drive')"
      ],
      "metadata": {
        "colab": {
          "base_uri": "https://localhost:8080/"
        },
        "id": "5em281IMl07Z",
        "outputId": "b5c94887-a5ea-4280-f5c5-134476344931"
      },
      "execution_count": null,
      "outputs": [
        {
          "output_type": "stream",
          "name": "stdout",
          "text": [
            "Drive already mounted at /content/drive; to attempt to forcibly remount, call drive.mount(\"/content/drive\", force_remount=True).\n"
          ]
        }
      ]
    },
    {
      "cell_type": "code",
      "source": [
        "import sklearn"
      ],
      "metadata": {
        "id": "YCsAkpBE6gdf"
      },
      "execution_count": null,
      "outputs": []
    },
    {
      "cell_type": "code",
      "source": [
        "import nltk\n",
        "nltk.download('sentiwordnet')"
      ],
      "metadata": {
        "colab": {
          "base_uri": "https://localhost:8080/"
        },
        "id": "Oy8aKHFg4Gub",
        "outputId": "04fba4b2-705b-4482-8e33-888f878d951d"
      },
      "execution_count": null,
      "outputs": [
        {
          "output_type": "stream",
          "name": "stderr",
          "text": [
            "[nltk_data] Downloading package sentiwordnet to /root/nltk_data...\n",
            "[nltk_data]   Unzipping corpora/sentiwordnet.zip.\n"
          ]
        },
        {
          "output_type": "execute_result",
          "data": {
            "text/plain": [
              "True"
            ]
          },
          "metadata": {},
          "execution_count": 26
        }
      ]
    },
    {
      "cell_type": "code",
      "source": [
        "import nltk\n",
        "nltk.download('wordnet')"
      ],
      "metadata": {
        "colab": {
          "base_uri": "https://localhost:8080/"
        },
        "id": "_4-TbZfM4N1F",
        "outputId": "8d194e1e-ef9c-4721-b861-1333a738b2a6"
      },
      "execution_count": null,
      "outputs": [
        {
          "output_type": "stream",
          "name": "stderr",
          "text": [
            "[nltk_data] Downloading package wordnet to /root/nltk_data...\n"
          ]
        },
        {
          "output_type": "execute_result",
          "data": {
            "text/plain": [
              "True"
            ]
          },
          "metadata": {},
          "execution_count": 28
        }
      ]
    },
    {
      "cell_type": "code",
      "source": [
        "nltk.download('omw-1.4')"
      ],
      "metadata": {
        "colab": {
          "base_uri": "https://localhost:8080/"
        },
        "id": "bnpOA_nZ4TG2",
        "outputId": "9ce6f5d4-dcbf-4574-e82a-abc7608aa30e"
      },
      "execution_count": null,
      "outputs": [
        {
          "output_type": "stream",
          "name": "stderr",
          "text": [
            "[nltk_data] Downloading package omw-1.4 to /root/nltk_data...\n"
          ]
        },
        {
          "output_type": "execute_result",
          "data": {
            "text/plain": [
              "True"
            ]
          },
          "metadata": {},
          "execution_count": 30
        }
      ]
    },
    {
      "cell_type": "markdown",
      "source": [
        "#### Remember to mount the Shared Drive \"NLP ML Data\" by clicking the Files section to the left and >> Google Drive."
      ],
      "metadata": {
        "id": "l2Eh1_zpL_9X"
      }
    },
    {
      "cell_type": "code",
      "source": [
        "import os\n",
        "import codecs"
      ],
      "metadata": {
        "id": "CXeEDYoGKE-0"
      },
      "execution_count": null,
      "outputs": []
    },
    {
      "cell_type": "code",
      "execution_count": null,
      "metadata": {
        "id": "2-etC41CEzoT"
      },
      "outputs": [],
      "source": [
        "def read_in(folder):\n",
        "    files = os.listdir(folder)\n",
        "    a_dict = {}\n",
        "    for a_file in sorted(files):\n",
        "        if not a_file.startswith(\".\"):\n",
        "            with codecs.open(folder + a_file, encoding='ISO-8859-1', errors ='ignore') as f:\n",
        "                file_id = a_file.split(\".\")[0].strip()\n",
        "                a_dict[file_id] = f.read()\n",
        "            f.close()\n",
        "    return a_dict"
      ]
    },
    {
      "cell_type": "markdown",
      "source": [
        "#### Creating a dictionary pos_dict of postive reviews and their file ID, and likewise for negative IDs."
      ],
      "metadata": {
        "id": "Tq-2pdYiaA3q"
      }
    },
    {
      "cell_type": "code",
      "source": [
        "folder = \"/content/drive/Shareddrives/NLP_ML_Data/review_polarity/txt_sentoken/pos/\"\n",
        "pos_dict = read_in(folder)\n",
        "#print(len(pos_dict))\n",
        "#print(pos_dict.get(next(iter(pos_dict))))"
      ],
      "metadata": {
        "id": "drPNkFjAFKiZ"
      },
      "execution_count": null,
      "outputs": []
    },
    {
      "cell_type": "code",
      "source": [
        "folder = \"/content/drive/Shareddrives/NLP_ML_Data/review_polarity/txt_sentoken/neg/\"\n",
        "neg_dict = read_in(folder)\n",
        "#print(len(neg_dict))\n",
        "#print(neg_dict.get(next(iter(neg_dict))))"
      ],
      "metadata": {
        "id": "kFnsKtN4TTCD"
      },
      "execution_count": null,
      "outputs": []
    },
    {
      "cell_type": "markdown",
      "source": [
        "#### Below we calculate some simple statistics, including:\n",
        "\n",
        "1. Average length of a review in positive and negative subsets\n",
        "2. Average number of words per sentence\n",
        "3. Size of the vocabulary (unique words in each subset)\n",
        "4. Diversity of sentiment vocabulary – average number of times each word occurs in a text with a specific sentiment"
      ],
      "metadata": {
        "id": "qPxVlNREUaFe"
      }
    },
    {
      "cell_type": "code",
      "source": [
        "def tokenize(text):\n",
        "    text.replace(\"\\n\", \" \")\n",
        "    return text.split()\n",
        "\n",
        "def statistics(a_dict):\n",
        "    length = 0\n",
        "    sent_length = 0\n",
        "    num_sents = 0\n",
        "    vocab = []\n",
        "    for review in a_dict.values():\n",
        "        length += len(tokenize(review))\n",
        "        sents = review.split(\"\\n\")\n",
        "        num_sents += len(sents)\n",
        "        for sent in sents:\n",
        "            sent_length += len(tokenize(sent))\n",
        "        vocab += tokenize(review)\n",
        "    avg_length = float(length)/len(a_dict)\n",
        "    avg_sent_length = float(sent_length)/num_sents\n",
        "    vocab_size = len(set(vocab))\n",
        "    diversity = float(length)/float(vocab_size)\n",
        "    return avg_length, avg_sent_length, vocab_size, diversity\n",
        "\n",
        "categories = [\"Positive\", \"Negative\"]\n",
        "rows = []\n",
        "rows.append([\"Category\", \"Avg_Len(Review)\", \"Avg_Len(Sent)\", \"Vocabulary Size\", \"Diversity\"])\n",
        "stats = {}\n",
        "stats[\"Positive\"] = statistics(pos_dict)\n",
        "stats[\"Negative\"] = statistics(neg_dict)\n",
        "for cat in categories:\n",
        "    rows.append([cat, f\"{stats.get(cat)[0]:.6f}\",\n",
        "                f\"{stats.get(cat)[1]:.6f}\",\n",
        "                f\"{stats.get(cat)[2]:.6f}\",\n",
        "                f\"{stats.get(cat)[3]:.6f}\"])\n",
        "\n",
        "columns = zip(*rows)\n",
        "column_widths = [max(len(item) for item in col) for col in columns]\n",
        "for row in rows:\n",
        "    print(''.join(' {:{width}} '.format(row[i], width=column_widths[i])\n",
        "                  for i in range(0, len(row))))"
      ],
      "metadata": {
        "colab": {
          "base_uri": "https://localhost:8080/"
        },
        "id": "oXa671xkUGp6",
        "outputId": "19145ce7-5e4b-4450-fbf7-4984bee1733e"
      },
      "execution_count": null,
      "outputs": [
        {
          "output_type": "stream",
          "name": "stdout",
          "text": [
            " Category  Avg_Len(Review)  Avg_Len(Sent)  Vocabulary Size  Diversity \n",
            " Positive  807.883721       23.017393      14812.000000     9.381312  \n",
            " Negative  705.630000       21.524266      34542.000000     20.428174 \n"
          ]
        }
      ]
    },
    {
      "cell_type": "code",
      "source": [
        "def vocab_difference(list1, list2):\n",
        "    vocab1 = []\n",
        "    vocab2 = []\n",
        "    for rev in list1:\n",
        "        vocab1 += tokenize(rev)\n",
        "    for rev in list2:\n",
        "        vocab2 += tokenize(rev)\n",
        "    return sorted(list(set(vocab1) - set(vocab2)))\n",
        "\n",
        "pos_wordlist = pos_dict.values()\n",
        "neg_wordlist = neg_dict.values()\n",
        "\n",
        "print(vocab_difference(pos_wordlist, neg_wordlist)[1500:1600])\n",
        "print(vocab_difference(neg_wordlist, pos_wordlist)[1500:1600])\n",
        "print()\n",
        "print(str(len(vocab_difference(pos_wordlist, neg_wordlist))) + \" unique words in positive reviews only\")\n",
        "print(str(len(vocab_difference(neg_wordlist, pos_wordlist))) + \" unique words in negative reviews only\")"
      ],
      "metadata": {
        "colab": {
          "base_uri": "https://localhost:8080/"
        },
        "id": "g2KdQqIMUIT9",
        "outputId": "aed85aa3-4ca8-4f49-cc08-1cfa4685b2e7"
      },
      "execution_count": null,
      "outputs": [
        {
          "output_type": "stream",
          "name": "stdout",
          "text": [
            "['hindering', 'hinging', 'hinting', 'hippies', 'hit-and-miss', 'hit-list', 'hitchcockian', 'hobbits', 'hoblit', \"hoblit's\", 'hockney', 'hold-ups', 'holds-barred', 'holidaymakers', 'holiness', 'hollywood-ian', 'hollywoodised', 'homemaker', 'homophobe', 'honored', 'honour', 'hooves', 'hopping', 'horoscopes', 'horrifies', 'horror-fans', 'horror/sci-fi', \"horses'\", 'hortense', 'hoses', 'hosting', 'hot-blooded', \"hot-fudge-rockin'\", 'hotpants', 'hound-dog', 'hounding', \"hours'\", 'howard_', 'hubert', 'hubley', 'hue', 'huerta', 'hughton', 'hulce', 'humbert', 'hummm', 'humours', 'humpalot', \"hung's\", 'hunger', \"hurt's\", 'hushes', 'hy', 'hygienists', 'hyman', 'hynek', 'hyper-kinetic', 'hypnotism', 'hypnotized', 'hypocrisy', 'h}', 'ia', 'ians', 'ibsen-esque', 'ice-blue', 'idea--but', 'idealism', 'ideals', 'identifies', 'identikit', 'ideological', 'ideology', \"idol's\", 'idolized', 'ii_--it', 'ilah', 'illusory', 'imam', 'immeadiate', 'immoral', 'imperious', 'imperiously', 'implication', 'impossibilty', 'impregnable', 'impressionable', 'improper', 'improvisations', 'inaction', 'inadequacy', 'inadvertly', 'inarguable', 'incarceration', 'inclosed', \"incomplete-it's\", 'incompletely', 'incorporation', 'increasingly-flustered', 'increments', 'incriminator']\n",
            "['amis', 'amish', 'amish-mocking', \"amistad's\", 'ammo', 'ammunition', 'ammunitions', 'amoeba', 'amok', 'amor', 'amorality', 'amorous', 'amounting', 'amourous', 'amphetamines', 'amphetimenes', 'amphibian-based', 'amplified', 'amply-sized', 'amputated', 'amputation', 'amrriage', 'amsterdam', 'amtrak', 'amuck', 'amulet', 'amundsen', 'amused', 'amusement', 'amusements', 'amusingly', 'amyl', 'ana', 'anabella', 'anabelle', 'anaconda', 'anacondas', 'anakin', 'anakins', 'anal', 'analect', 'anally', 'analysis', 'analyst', 'analyze', 'analyzes', 'anamoly', 'anarchic', 'anarchy', 'anatomical', 'anatomically', 'anatomizes', 'ancestor', \"ancestor's\", 'ancestors', 'ancestral', 'anchor', 'anchorman', 'ancient-swords', 'ancy', 'and--', 'and--again--you', 'anders', \"anders'\", \"anderson's\", 'andersons', 'andie', 'andrea', 'andrews', 'androginous', \"android's\", 'androids', 'andrzej', 'anecdotal', 'aneeka', 'anemic', \"angel's\", 'angeles/las', 'angelic', 'angelic--in', 'angelina', 'angelo', \"angels'\", 'angels-style', 'angered', 'angie', 'anglo', 'angrier', 'angrily', 'angry-but-inept', 'angst-horror', 'angst-ridden', 'angstdom', 'angsty', 'anguish', 'anguishes', 'angular', 'angus', 'anij', \"animal's\"]\n",
            "\n",
            "3615 unique words in positive reviews only\n",
            "23345 unique words in negative reviews only\n"
          ]
        }
      ]
    },
    {
      "cell_type": "code",
      "source": [
        "import spacy.cli\n",
        "spacy.cli.download(\"en_core_web_lg\")\n",
        "nlp = spacy.load(\"en_core_web_lg\")"
      ],
      "metadata": {
        "colab": {
          "base_uri": "https://localhost:8080/"
        },
        "id": "UWafdp-FUWKl",
        "outputId": "485a4229-e560-4e2e-db22-47f4b9859859"
      },
      "execution_count": null,
      "outputs": [
        {
          "output_type": "stream",
          "name": "stderr",
          "text": [
            "/usr/local/lib/python3.8/dist-packages/torch/cuda/__init__.py:497: UserWarning: Can't initialize NVML\n",
            "  warnings.warn(\"Can't initialize NVML\")\n"
          ]
        },
        {
          "output_type": "stream",
          "name": "stdout",
          "text": [
            "\u001b[38;5;2m✔ Download and installation successful\u001b[0m\n",
            "You can now load the package via spacy.load('en_core_web_lg')\n"
          ]
        }
      ]
    },
    {
      "cell_type": "code",
      "source": [
        "def lemmatize(sentence, switch):\n",
        "    text = nlp(sentence.replace(\"\\n\", \" \"))\n",
        "    if switch==\"on\":\n",
        "        lemmas = [text[i].lemma_ for i in range(len(text))]\n",
        "        return lemmas\n",
        "    else:\n",
        "        tokens = [text[i] for i in range(len(text))]\n",
        "        return tokens\n",
        "\n",
        "#print out the results and compare\n",
        "print(lemmatize(pos_dict.get(next(iter(pos_dict))), \"on\")[:200])\n",
        "print()\n",
        "print(lemmatize(pos_dict.get(next(iter(pos_dict))), \"off\")[:200])"
      ],
      "metadata": {
        "colab": {
          "base_uri": "https://localhost:8080/"
        },
        "id": "GCk96BmoaV3y",
        "outputId": "efc95af3-ff56-45e8-eee7-16af58c34ce6"
      },
      "execution_count": null,
      "outputs": [
        {
          "output_type": "stream",
          "name": "stdout",
          "text": [
            "['film', 'adapt', 'from', 'comic', 'book', 'have', 'have', 'plenty', 'of', 'success', ',', 'whether', 'they', 'be', 'about', 'superhero', '(', 'batman', ',', 'superman', ',', 'spawn', ')', ',', 'or', 'gear', 'toward', 'kid', '(', 'casper', ')', 'or', 'the', 'arthouse', 'crowd', '(', 'ghost', 'world', ')', ',', 'but', 'there', 'be', 'never', 'really', 'be', 'a', 'comic', 'book', 'like', 'from', 'hell', 'before', '.', ' ', 'for', 'starter', ',', 'it', 'be', 'create', 'by', 'alan', 'moore', '(', 'and', 'eddie', 'campbell', ')', ',', 'who', 'bring', 'the', 'medium', 'to', 'a', 'whole', 'new', 'level', 'in', 'the', 'mid', \"'\", '80', 'with', 'a', '12', '-', 'part', 'series', 'call', 'the', 'watchman', '.', ' ', 'to', 'say', 'moore', 'and', 'campbell', 'thoroughly', 'research', 'the', 'subject', 'of', 'jack', 'the', 'ripper', 'would', 'be', 'like', 'say', 'michael', 'jackson', 'be', 'start', 'to', 'look', 'a', 'little', 'odd', '.', ' ', 'the', 'book', '(', 'or', '\"', 'graphic', 'novel', ',', '\"', 'if', 'you', 'will', ')', 'be', 'over', '500', 'page', 'long', 'and', 'include', 'nearly', '30', 'more', 'that', 'consist', 'of', 'nothing', 'but', 'footnote', '.', ' ', 'in', 'other', 'word', ',', 'do', 'not', 'dismiss', 'this', 'film', 'because', 'of', 'its', 'source', '.', ' ', 'if', 'you', 'can', 'get', 'past', 'the', 'whole', 'comic', 'book', 'thing', ',', 'you', 'might', 'find', 'another', 'stumble', 'block', 'in', 'from', 'hell', \"'s\", 'director', ',', 'albert', 'and', 'allen', 'hughes', '.', ' ', 'get', 'the']\n",
            "\n",
            "[films, adapted, from, comic, books, have, had, plenty, of, success, ,, whether, they, 're, about, superheroes, (, batman, ,, superman, ,, spawn, ), ,, or, geared, toward, kids, (, casper, ), or, the, arthouse, crowd, (, ghost, world, ), ,, but, there, 's, never, really, been, a, comic, book, like, from, hell, before, .,  , for, starters, ,, it, was, created, by, alan, moore, (, and, eddie, campbell, ), ,, who, brought, the, medium, to, a, whole, new, level, in, the, mid, ', 80s, with, a, 12, -, part, series, called, the, watchmen, .,  , to, say, moore, and, campbell, thoroughly, researched, the, subject, of, jack, the, ripper, would, be, like, saying, michael, jackson, is, starting, to, look, a, little, odd, .,  , the, book, (, or, \", graphic, novel, ,, \", if, you, will, ), is, over, 500, pages, long, and, includes, nearly, 30, more, that, consist, of, nothing, but, footnotes, .,  , in, other, words, ,, do, n't, dismiss, this, film, because, of, its, source, .,  , if, you, can, get, past, the, whole, comic, book, thing, ,, you, might, find, another, stumbling, block, in, from, hell, 's, directors, ,, albert, and, allen, hughes, .,  , getting, the]\n"
          ]
        }
      ]
    },
    {
      "cell_type": "code",
      "source": [
        "def spacy_preprocess_reviews(source):\n",
        "    source_docs = {}\n",
        "    index = 0\n",
        "    for review_id in source.keys():\n",
        "        #to speed processing up, you can disable \"ner\" – Named Entity Recognition module of spaCy\n",
        "        source_docs[review_id] = nlp(source.get(review_id).replace(\"\\n\", \"\"), disable=[\"ner\"])\n",
        "        if index>0 and (index%200)==0:\n",
        "            print(str(index) + \" reviews processed\")\n",
        "        index += 1\n",
        "    print(\"Dataset processed\")\n",
        "    return source_docs\n",
        "\n",
        "pos_docs = spacy_preprocess_reviews(pos_dict)\n",
        "neg_docs = spacy_preprocess_reviews(neg_dict)"
      ],
      "metadata": {
        "colab": {
          "base_uri": "https://localhost:8080/"
        },
        "id": "RbhkWRzDaYFA",
        "outputId": "e3432183-992e-4ccf-cebe-c859dac09e5c"
      },
      "execution_count": null,
      "outputs": [
        {
          "output_type": "stream",
          "name": "stdout",
          "text": [
            "Dataset processed\n",
            "200 reviews processed\n",
            "400 reviews processed\n",
            "600 reviews processed\n",
            "800 reviews processed\n",
            "Dataset processed\n"
          ]
        }
      ]
    },
    {
      "cell_type": "code",
      "source": [
        "def statistics_lem(source_docs):\n",
        "    length = 0\n",
        "    vocab = []\n",
        "    for review_id in source_docs.keys():\n",
        "        review_doc = source_docs.get(review_id)\n",
        "        lemmas = []\n",
        "        for token in review_doc:\n",
        "            lemmas.append(token.lemma_)\n",
        "        length += len(lemmas)\n",
        "        vocab += lemmas\n",
        "    avg_length = float(length)/len(source_docs)\n",
        "    vocab_size = len(set(vocab))\n",
        "    diversity = float(length)/float(vocab_size)\n",
        "    return avg_length, vocab_size, diversity\n",
        "\n",
        "categories = [\"Positive\", \"Negative\"]\n",
        "rows = []\n",
        "rows.append([\"Category\", \"Avg_Len(Review)\", \"Vocabulary Size\", \"Diversity\"])\n",
        "stats = {}\n",
        "stats[\"Positive\"] = statistics_lem(pos_docs)\n",
        "stats[\"Negative\"] = statistics_lem(neg_docs)\n",
        "for cat in categories:\n",
        "    rows.append([cat, f\"{stats.get(cat)[0]:.6f}\",\n",
        "                f\"{stats.get(cat)[1]:.6f}\",\n",
        "                f\"{stats.get(cat)[2]:.6f}\"])\n",
        "\n",
        "columns = zip(*rows)\n",
        "column_widths = [max(len(item) for item in col) for col in columns]\n",
        "for row in rows:\n",
        "    print(''.join(' {:{width}} '.format(row[i], width=column_widths[i])\n",
        "                  for i in range(0, len(row))))"
      ],
      "metadata": {
        "colab": {
          "base_uri": "https://localhost:8080/"
        },
        "id": "M-_JZj5tacto",
        "outputId": "8c82bdb8-2269-46c2-9f5c-0e582f1bf08f"
      },
      "execution_count": null,
      "outputs": [
        {
          "output_type": "stream",
          "name": "stdout",
          "text": [
            " Category  Avg_Len(Review)  Vocabulary Size  Diversity \n",
            " Positive  838.848837       11034.000000     13.076128 \n",
            " Negative  737.666000       22746.000000     32.430581 \n"
          ]
        }
      ]
    },
    {
      "cell_type": "code",
      "source": [
        "def vocab_lem_difference(source_docs1, source_docs2):\n",
        "    vocab1 = []\n",
        "    vocab2 = []\n",
        "    for rev_id in source_docs1.keys():\n",
        "        rev = source_docs1.get(rev_id)\n",
        "        for token in rev:\n",
        "            vocab1.append(token.lemma_)\n",
        "    for rev_id in source_docs2.keys():\n",
        "        rev = source_docs2.get(rev_id)\n",
        "        for token in rev:\n",
        "            vocab2.append(token.lemma_)\n",
        "    return sorted(list(set(vocab1) - set(vocab2)))\n",
        "\n",
        "print(str(len(vocab_lem_difference(pos_docs, neg_docs))) + \" unique lemmas in positive reviews only\")\n",
        "print(str(len(vocab_lem_difference(neg_docs, pos_docs))) + \" unique lemmas in negative reviews only\")"
      ],
      "metadata": {
        "colab": {
          "base_uri": "https://localhost:8080/"
        },
        "id": "pFe8KNkBacuz",
        "outputId": "f8b9020a-ae7d-417a-da55-596472f4fed7"
      },
      "execution_count": null,
      "outputs": [
        {
          "output_type": "stream",
          "name": "stdout",
          "text": [
            "2163 unique lemmas in positive reviews only\n",
            "13875 unique lemmas in negative reviews only\n"
          ]
        }
      ]
    },
    {
      "cell_type": "code",
      "source": [
        "def vocab_pos_difference(source_docs1, source_docs2, pos):\n",
        "    vocab1 = []\n",
        "    vocab2 = []\n",
        "    for rev_id in source_docs1.keys():\n",
        "        rev = source_docs1.get(rev_id)\n",
        "        for token in rev:\n",
        "            if token.pos_==pos:\n",
        "                vocab1.append(token.text)\n",
        "    for rev_id in source_docs2.keys():\n",
        "        rev = source_docs2.get(rev_id)\n",
        "        for token in rev:\n",
        "            if token.pos_==pos:\n",
        "                vocab2.append(token.text)\n",
        "    return sorted(list(set(vocab1) - set(vocab2)))\n",
        "\n",
        "\n",
        "categories = [\"Positive\", \"Negative\"]\n",
        "rows = []\n",
        "rows.append([\"Category\", \"Unique adj's\", \"Unique adv's\"])\n",
        "stats = {}\n",
        "stats[\"Positive\"] = (len(vocab_pos_difference(pos_docs, neg_docs, \"ADJ\")),\n",
        "                     len(vocab_pos_difference(pos_docs, neg_docs, \"ADV\")))\n",
        "stats[\"Negative\"] = (len(vocab_pos_difference(neg_docs, pos_docs, \"ADJ\")),\n",
        "                     len(vocab_pos_difference(neg_docs, pos_docs, \"ADV\")))\n",
        "for cat in categories:\n",
        "    rows.append([cat, f\"{stats.get(cat)[0]:.6f}\",\n",
        "                f\"{stats.get(cat)[1]:.6f}\"])\n",
        "\n",
        "columns = zip(*rows)\n",
        "column_widths = [max(len(item) for item in col) for col in columns]\n",
        "for row in rows:\n",
        "    print(''.join(' {:{width}} '.format(row[i], width=column_widths[i])\n",
        "                  for i in range(0, len(row))))"
      ],
      "metadata": {
        "colab": {
          "base_uri": "https://localhost:8080/"
        },
        "id": "S5kxJg80acwr",
        "outputId": "e004a93f-57ee-41bb-9941-683fe7287e96"
      },
      "execution_count": null,
      "outputs": [
        {
          "output_type": "stream",
          "name": "stdout",
          "text": [
            " Category  Unique adj's  Unique adv's \n",
            " Positive  491.000000    126.000000   \n",
            " Negative  3038.000000   827.000000   \n"
          ]
        }
      ]
    },
    {
      "cell_type": "markdown",
      "source": [
        "## Simple Approach with Sentiment Lexicons"
      ],
      "metadata": {
        "id": "iZHHCP1Kaopj"
      }
    },
    {
      "cell_type": "code",
      "source": [
        "def collect_wordlist(input_file):\n",
        "    word_dict = {}\n",
        "    with codecs.open(input_file, encoding='ISO-8859-1', errors ='ignore') as f:\n",
        "        for a_line in f.readlines():\n",
        "            cols = a_line.split(\"\\t\")\n",
        "            if len(cols)>2:\n",
        "                word = cols[0].strip()\n",
        "                score = float(cols[1].strip())\n",
        "                word_dict[word] = score\n",
        "    f.close()\n",
        "    return word_dict\n",
        "\n",
        "\n",
        "adj_90 = collect_wordlist(\"/content/drive/Shareddrives/NLP_ML_Data/adjectives/1990.tsv\")\n",
        "print(adj_90.get(\"cool\"))\n",
        "print(len(adj_90))\n",
        "adj_00 = collect_wordlist(\"/content/drive/Shareddrives/NLP_ML_Data/adjectives/2000.tsv\")\n",
        "print(adj_00.get(\"cool\"))\n",
        "print(len(adj_00))\n",
        "all_90 = collect_wordlist(\"/content/drive/Shareddrives/NLP_ML_Data/frequent_words/1990.tsv\")\n",
        "print(len(all_90))\n",
        "all_00 = collect_wordlist(\"/content/drive/Shareddrives/NLP_ML_Data/frequent_words/2000.tsv\")\n",
        "print(len(all_00))\n",
        "movie_words = collect_wordlist(\"/content/drive/Shareddrives/NLP_ML_Data/subreddits/movies.tsv\")\n",
        "print(len(movie_words))"
      ],
      "metadata": {
        "colab": {
          "base_uri": "https://localhost:8080/"
        },
        "id": "LGzlCN-8acyY",
        "outputId": "e2a215bd-84f1-4a32-fb92-0af36cdf0e41"
      },
      "execution_count": null,
      "outputs": [
        {
          "output_type": "stream",
          "name": "stdout",
          "text": [
            "1.28\n",
            "1968\n",
            "1.19\n",
            "2041\n",
            "4924\n",
            "4924\n",
            "4981\n"
          ]
        }
      ]
    },
    {
      "cell_type": "code",
      "source": [
        "def bin_decisions(a_dict, label, sent_dict):\n",
        "    decisions = []\n",
        "    for rev_id in a_dict.keys():\n",
        "        score = 0\n",
        "        for token in a_dict.get(rev_id):\n",
        "            if token.text in sent_dict.keys():\n",
        "                if sent_dict.get(token.text)<0:\n",
        "                    score -= 1\n",
        "                else:\n",
        "                    score += 1\n",
        "        if score < 0:\n",
        "            decisions.append((-1, label))\n",
        "        else:\n",
        "            decisions.append((1, label))\n",
        "    return decisions\n",
        "\n",
        "def weighted_decisions(a_dict, label, sent_dict):\n",
        "    decisions = []\n",
        "    for rev_id in a_dict.keys():\n",
        "        score = 0\n",
        "        for token in a_dict.get(rev_id):\n",
        "            if token.text in sent_dict.keys():\n",
        "                score += sent_dict.get(token.text)\n",
        "        if score < 0:\n",
        "            decisions.append((-1, label))\n",
        "        else:\n",
        "            decisions.append((1, label))\n",
        "    return decisions\n",
        "\n",
        "def get_accuracy(pos_docs, neg_docs, sent_dict):\n",
        "    decisions_pos = bin_decisions(pos_docs, 1, sent_dict)\n",
        "    decisions_neg = bin_decisions(neg_docs, -1, sent_dict)\n",
        "    decisions_all = decisions_pos + decisions_neg\n",
        "    lists = [decisions_pos, decisions_neg, decisions_all]\n",
        "    accuracies = []\n",
        "    for i in range(0, len(lists)):\n",
        "        match = 0\n",
        "        for item in lists[i]:\n",
        "            if item[0]==item[1]:\n",
        "                match += 1\n",
        "        accuracies.append(float(match)/float(len(lists[i])))\n",
        "    return accuracies\n",
        "\n",
        "\n",
        "categories = [\"Adj_90\", \"Adj_00\", \"All_90\", \"All_00\", \"Movies\"]\n",
        "rows = []\n",
        "rows.append([\"List\", \"Acc(positive)\", \"Acc(negative)\", \"Acc(all)\"])\n",
        "accs = {}\n",
        "accs[\"Adj_90\"] = get_accuracy(pos_docs, neg_docs, adj_90)\n",
        "accs[\"Adj_00\"] = get_accuracy(pos_docs, neg_docs, adj_00)\n",
        "accs[\"All_90\"] = get_accuracy(pos_docs, neg_docs, all_90)\n",
        "accs[\"All_00\"] = get_accuracy(pos_docs, neg_docs, all_00)\n",
        "accs[\"Movies\"] = get_accuracy(pos_docs, neg_docs, movie_words)\n",
        "for cat in categories:\n",
        "    rows.append([cat, f\"{accs.get(cat)[0]:.6f}\",\n",
        "                f\"{accs.get(cat)[1]:.6f}\",\n",
        "                f\"{accs.get(cat)[2]:.6f}\"])\n",
        "\n",
        "columns = zip(*rows)\n",
        "column_widths = [max(len(item) for item in col) for col in columns]\n",
        "for row in rows:\n",
        "    print(''.join(' {:{width}} '.format(row[i], width=column_widths[i])\n",
        "                  for i in range(0, len(row))))"
      ],
      "metadata": {
        "colab": {
          "base_uri": "https://localhost:8080/"
        },
        "id": "vB2IDGQUac0F",
        "outputId": "cb611f09-6bc0-454f-eb9c-7b986908f952"
      },
      "execution_count": null,
      "outputs": [
        {
          "output_type": "stream",
          "name": "stdout",
          "text": [
            " List    Acc(positive)  Acc(negative)  Acc(all) \n",
            " Adj_90  0.872093       0.267000       0.355802 \n",
            " Adj_00  0.825581       0.354000       0.423208 \n",
            " All_90  1.000000       0.000000       0.146758 \n",
            " All_00  0.930233       0.086000       0.209898 \n",
            " Movies  0.017442       0.995000       0.851536 \n"
          ]
        }
      ]
    },
    {
      "cell_type": "code",
      "source": [
        "def occurrences(a_dict, sent_dict):\n",
        "    occur = []\n",
        "    for rev_id in a_dict.keys():\n",
        "        for token in a_dict.get(rev_id):\n",
        "            if token.text in sent_dict.keys():\n",
        "                occur.append(token.text)\n",
        "    return len(set(occur))\n",
        "\n",
        "categories = [\"Adj_90\", \"Adj_00\", \"All_90\", \"All_00\", \"Movies\"]\n",
        "rows = []\n",
        "rows.append([\"List\", \"Occurs(pos)\", \"Occurs(neg)\"])\n",
        "occs = {}\n",
        "occs[\"Adj_90\"] = occurrences(pos_docs, adj_90), occurrences(neg_docs, adj_90)\n",
        "occs[\"Adj_00\"] = occurrences(pos_docs, adj_00), occurrences(neg_docs, adj_00)\n",
        "occs[\"All_90\"] = occurrences(pos_docs, all_90), occurrences(neg_docs, all_90)\n",
        "occs[\"All_00\"] = occurrences(pos_docs, all_00), occurrences(neg_docs, all_00)\n",
        "occs[\"Movies\"] = occurrences(pos_docs, movie_words), occurrences(neg_docs, movie_words)\n",
        "for cat in categories:\n",
        "    rows.append([cat, f\"{occs.get(cat)[0]:.6f}\",\n",
        "                f\"{occs.get(cat)[1]:.6f}\"])\n",
        "\n",
        "columns = zip(*rows)\n",
        "column_widths = [max(len(item) for item in col) for col in columns]\n",
        "for row in rows:\n",
        "    print(''.join(' {:{width}} '.format(row[i], width=column_widths[i])\n",
        "                  for i in range(0, len(row))))\n"
      ],
      "metadata": {
        "colab": {
          "base_uri": "https://localhost:8080/"
        },
        "id": "2-FmCjQfac10",
        "outputId": "4090ab55-8fe1-46ae-caaa-b28f3bab2c46"
      },
      "execution_count": null,
      "outputs": [
        {
          "output_type": "stream",
          "name": "stdout",
          "text": [
            " List    Occurs(pos)  Occurs(neg) \n",
            " Adj_90  1219.000000  1667.000000 \n",
            " Adj_00  1260.000000  1731.000000 \n",
            " All_90  4048.000000  4712.000000 \n",
            " All_00  4073.000000  4732.000000 \n",
            " Movies  4129.000000  4659.000000 \n"
          ]
        }
      ]
    },
    {
      "cell_type": "markdown",
      "source": [
        "## Sentiment Analysis Using SentiWordNet"
      ],
      "metadata": {
        "id": "5CUbfiZwa0ER"
      }
    },
    {
      "cell_type": "code",
      "source": [
        "from nltk.corpus import sentiwordnet as swn\n",
        "\n",
        "print(list(swn.senti_synsets('joy')))\n",
        "print(list(swn.senti_synsets('trouble')))"
      ],
      "metadata": {
        "id": "OAMENDeoac3l",
        "colab": {
          "base_uri": "https://localhost:8080/"
        },
        "outputId": "e639a3d3-bce9-471b-9cc1-1743f7be09a1"
      },
      "execution_count": null,
      "outputs": [
        {
          "output_type": "stream",
          "name": "stdout",
          "text": [
            "[SentiSynset('joy.n.01'), SentiSynset('joy.n.02'), SentiSynset('rejoice.v.01'), SentiSynset('gladden.v.01')]\n",
            "[SentiSynset('trouble.n.01'), SentiSynset('fuss.n.02'), SentiSynset('trouble.n.03'), SentiSynset('trouble.n.04'), SentiSynset('worry.n.02'), SentiSynset('trouble.n.06'), SentiSynset('disturb.v.01'), SentiSynset('trouble.v.02'), SentiSynset('perturb.v.01'), SentiSynset('trouble_oneself.v.01'), SentiSynset('trouble.v.05')]\n"
          ]
        }
      ]
    },
    {
      "cell_type": "code",
      "source": [
        "joy1 = swn.senti_synset('joy.n.01')\n",
        "joy2 = swn.senti_synset('joy.n.02')\n",
        "\n",
        "trouble1 = swn.senti_synset('trouble.n.03')\n",
        "trouble2 = swn.senti_synset('trouble.n.04')\n",
        "\n",
        "\n",
        "categories = [\"Joy1\", \"Joy2\", \"Trouble1\", \"Trouble2\"]\n",
        "rows = []\n",
        "rows.append([\"List\", \"Positive score\", \"Negative Score\"])\n",
        "accs = {}\n",
        "accs[\"Joy1\"] = [joy1.pos_score(), joy1.neg_score()]\n",
        "accs[\"Joy2\"] = [joy2.pos_score(), joy2.neg_score()]\n",
        "accs[\"Trouble1\"] = [trouble1.pos_score(), trouble1.neg_score()]\n",
        "accs[\"Trouble2\"] = [trouble2.pos_score(), trouble2.neg_score()]\n",
        "for cat in categories:\n",
        "    rows.append([cat, f\"{accs.get(cat)[0]:.3f}\",\n",
        "                f\"{accs.get(cat)[1]:.3f}\"])\n",
        "\n",
        "columns = zip(*rows)\n",
        "column_widths = [max(len(item) for item in col) for col in columns]\n",
        "for row in rows:\n",
        "    print(''.join(' {:{width}} '.format(row[i], width=column_widths[i])\n",
        "                  for i in range(0, len(row))))"
      ],
      "metadata": {
        "id": "z_eyLkRrac5Y",
        "colab": {
          "base_uri": "https://localhost:8080/"
        },
        "outputId": "2b04101d-37a3-4117-c223-3c18452a5214"
      },
      "execution_count": null,
      "outputs": [
        {
          "output_type": "stream",
          "name": "stdout",
          "text": [
            " List      Positive score  Negative Score \n",
            " Joy1      0.500           0.250          \n",
            " Joy2      0.375           0.000          \n",
            " Trouble1  0.000           0.625          \n",
            " Trouble2  0.000           0.500          \n"
          ]
        }
      ]
    },
    {
      "cell_type": "code",
      "source": [
        "synsets = swn.senti_synsets('terrific', 'a')\n",
        "for synset in synsets:\n",
        "    print(\"pos: +\" + str(synset.pos_score()) + \" neg: -\" + str(synset.neg_score()))"
      ],
      "metadata": {
        "id": "UN2SQMILac7E",
        "colab": {
          "base_uri": "https://localhost:8080/"
        },
        "outputId": "fcf23534-9318-4d24-a861-c58715f1bca2"
      },
      "execution_count": null,
      "outputs": [
        {
          "output_type": "stream",
          "name": "stdout",
          "text": [
            "pos: +0.25 neg: -0.25\n",
            "pos: +0.75 neg: -0.0\n",
            "pos: +0.0 neg: -0.625\n"
          ]
        }
      ]
    },
    {
      "cell_type": "code",
      "source": [
        "from nltk.corpus import wordnet as wn\n",
        "\n",
        "#use token.tag_ and see https://spacy.io/api/annotation\n",
        "def convert_tags(pos_tag):\n",
        "    if pos_tag.startswith(\"JJ\"):\n",
        "         return wn.ADJ\n",
        "    elif pos_tag.startswith(\"NN\"):\n",
        "         return wn.NOUN\n",
        "    elif pos_tag.startswith(\"RB\"):\n",
        "         return wn.ADV\n",
        "    elif pos_tag.startswith(\"VB\") or pos_tag.startswith(\"MD\"):\n",
        "         return wn.VERB\n",
        "    return None\n",
        "\n",
        "def swn_decisions(a_dict, label):\n",
        "    decisions = []\n",
        "    for rev_id in a_dict.keys():\n",
        "        score = 0\n",
        "        neg_count = 0\n",
        "        pos_count = 0\n",
        "        for token in a_dict.get(rev_id):\n",
        "            wn_tag = convert_tags(token.tag_)\n",
        "            if wn_tag in (wn.ADJ, wn.ADV, wn.NOUN, wn.VERB):\n",
        "                synsets = list(swn.senti_synsets(token.lemma_, pos=wn_tag))\n",
        "                if len(synsets)>0:\n",
        "                    temp_score = 0.0\n",
        "                    for synset in synsets:\n",
        "                        temp_score += synset.pos_score() - synset.neg_score()\n",
        "                    score += temp_score/len(synsets)\n",
        "        if score < 0:\n",
        "            decisions.append((-1, label))\n",
        "        else:\n",
        "            decisions.append((1, label))\n",
        "    return decisions"
      ],
      "metadata": {
        "id": "UuNYujffac89"
      },
      "execution_count": null,
      "outputs": []
    },
    {
      "cell_type": "code",
      "source": [
        "def get_swn_accuracy(pos_docs, neg_docs):\n",
        "    decisions_pos = swn_decisions(pos_docs, 1)\n",
        "    decisions_neg = swn_decisions(neg_docs, -1)\n",
        "    decisions_all = decisions_pos + decisions_neg\n",
        "    lists = [decisions_pos, decisions_neg, decisions_all]\n",
        "    accuracies = []\n",
        "    for i in range(0, len(lists)):\n",
        "        match = 0\n",
        "        for item in lists[i]:\n",
        "            if item[0]==item[1]:\n",
        "                match += 1\n",
        "        accuracies.append(float(match)/float(len(lists[i])))\n",
        "    return accuracies\n",
        "\n",
        "\n",
        "accuracies = get_swn_accuracy(pos_docs, neg_docs)\n",
        "\n",
        "rows = []\n",
        "rows.append([\"List\", \"Acc(positive)\", \"Acc(negative)\", \"Acc(all)\"])\n",
        "rows.append([\"SentiWordNet\", f\"{accuracies[0]:.6f}\",\n",
        "                f\"{accuracies[1]:.6f}\",\n",
        "                f\"{accuracies[2]:.6f}\"])\n",
        "\n",
        "columns = zip(*rows)\n",
        "column_widths = [max(len(item) for item in col) for col in columns]\n",
        "for row in rows:\n",
        "    print(''.join(' {:{width}} '.format(row[i], width=column_widths[i])\n",
        "                  for i in range(0, len(row))))"
      ],
      "metadata": {
        "id": "1SUcm7kRac-t",
        "colab": {
          "base_uri": "https://localhost:8080/"
        },
        "outputId": "a4a9ffcf-d795-44a8-fe09-fc1e3ec4d397"
      },
      "execution_count": null,
      "outputs": [
        {
          "output_type": "stream",
          "name": "stdout",
          "text": [
            " List          Acc(positive)  Acc(negative)  Acc(all) \n",
            " SentiWordNet  0.668605       0.701000       0.696246 \n"
          ]
        }
      ]
    },
    {
      "cell_type": "code",
      "source": [
        "%matplotlib inline\n",
        "\n",
        "import matplotlib.pyplot as plt\n",
        "\n",
        "a = [\"Sentiment Lexicons\", \"SentiWordNet\"]\n",
        "index = range(len(a))\n",
        "b = [64.75, 68.80] # Accuracy scores for the compared methods\n",
        "\n",
        "fig, ax = plt.subplots()\n",
        "axes = plt.gca()\n",
        "# Let's set 50 as the lower bound as the majority class baseline is at 50 for this dataset\n",
        "axes.set_ylim([50,70])\n",
        "\n",
        "ax.bar(index, b, color=['#0A40A4', '#61A4F6'])\n",
        "plt.xticks(index, a)\n",
        "\n",
        "plt.show()\n",
        "\n",
        "import matplotlib\n",
        "matplotlib.axes.Axes.plot\n",
        "matplotlib.pyplot.plot\n",
        "matplotlib.axes.Axes.legend\n",
        "matplotlib.pyplot.legend\n"
      ],
      "metadata": {
        "id": "vQS1-EmAadAF",
        "colab": {
          "base_uri": "https://localhost:8080/",
          "height": 286
        },
        "outputId": "42154ae2-bc40-4959-8b53-14da48305766"
      },
      "execution_count": null,
      "outputs": [
        {
          "output_type": "display_data",
          "data": {
            "text/plain": [
              "<Figure size 432x288 with 1 Axes>"
            ],
            "image/png": "[encoded data removed]"
          },
          "metadata": {
            "needs_background": "light"
          }
        },
        {
          "output_type": "execute_result",
          "data": {
            "text/plain": [
              "<function matplotlib.pyplot.legend(*args, **kwargs)>"
            ]
          },
          "metadata": {},
          "execution_count": 36
        }
      ]
    },
    {
      "cell_type": "markdown",
      "source": [
        "## Data driven approach with a Decision Tree"
      ],
      "metadata": {
        "id": "CuzmYeq_bEIh"
      }
    },
    {
      "cell_type": "code",
      "source": [
        "import random\n",
        "import string\n",
        "#from spacy.lang.en.stop_words import STOP_WORDS as stopwords_list # stopwords list\n",
        "punctuation_list = [punct for punct in string.punctuation]\n",
        "\n",
        "def text_filter(a_dict, label, exclude_lists):\n",
        "    data = []\n",
        "    for rev_id in a_dict.keys():\n",
        "        tokens = []\n",
        "        for token in a_dict.get(rev_id):\n",
        "            if not token.text in exclude_lists:\n",
        "                tokens.append(token.text)\n",
        "                #tokens.append(token.lemma_) # for the use of lemmas instead of word tokens\n",
        "        data.append((' '.join(tokens), label))\n",
        "    return data\n",
        "\n",
        "def prepare_data(pos_docs, neg_docs, exclude_lists):\n",
        "    data = text_filter(pos_docs, 1, exclude_lists)\n",
        "    data += text_filter(neg_docs, -1, exclude_lists)\n",
        "    random.seed(42)\n",
        "    random.shuffle(data)\n",
        "    texts = []\n",
        "    labels = []\n",
        "    for item in data:\n",
        "        texts.append(item[0])\n",
        "        labels.append(item[1])\n",
        "    return texts, labels\n",
        "\n",
        "# for the use of both lists in filtering:\n",
        "#texts, labels = prepare_data(pos_docs, neg_docs, list(stopwords_list) + punctuation_list)\n",
        "\n",
        "texts, labels = prepare_data(pos_docs, neg_docs, punctuation_list)\n",
        "\n",
        "print(len(texts), len(labels))\n",
        "print(texts[0])"
      ],
      "metadata": {
        "id": "dFc-CSXPbDwG",
        "colab": {
          "base_uri": "https://localhost:8080/"
        },
        "outputId": "54193ed3-8b7a-4300-b2d8-2d43a50dda6a"
      },
      "execution_count": null,
      "outputs": [
        {
          "output_type": "stream",
          "name": "stdout",
          "text": [
            "1172 1172\n",
            "from a major league baseball radio broadcast featuring play by- play man harry canary and color man whitey hashbrown with special guest commentator james berardinelli hc as we go to the top of the 8th we 're joined in the booth by film critic james berardinelli who 's here fresh from seeing the new baseball movie major league back to the minors the third in the popular saga taking a lighter look at the majors nice to see you jim as a big baseball fan and a movie reviewer can you give us the scoop on the new flick jb my opinion the producers should have stopped while they were ahead and that was nine years ago one entry was definitely enough and i 'm surprised there was a third after the anemic showing and low quality of major league 2 this latest installment has all the earmarks of something that should have been released direct to video it 's worse than a mediocre made for tv feature i should also mention that this movie likely wo n't play all that well in cleveland now that the real indians are perennial contenders they have been replaced by the minnesota twins as the cinematic sadsacks actually most of the action involves the twins aaa minor league club the buzz rather than the actual major league franchise hc sorry to interrupt jim but we still have to do play by play for the game on the field leading off this inning is john warren he steps into the batter 's box and takes kent 's pitch low for ball one wh so the story 's strictly minor league right what 's it about jb scott bakula the guy from quantum leap plays career minor league pitcher gus cantrell when twins owner roger dorn once again portrayed by corbin bernsen needs a new manager for his aaa team he offers the job to gus who is now faced with two daunting tasks turn the team around and groom hot prospect downtown anderson played by walt goggins for a promotion to the show with the help of former major leaguers pedro cerrano dennis haysbert rube baker eric bruskotter and isuro tanaka takaaki ishibashi gus gets the buzz on the right track in fact he is so successful that he earns the enmity of the jealous manager of the big league club leonard huff played with over the top relish by ted mcginley soon dorn has arranged an exhibition game that pits gus overachieving group against huff 's overpaid last place bunch wh can we guess who wins jb the results have all the suspense of watching the videotape of a game when you 've already seen the box score on top of that none of the mock ups are presented with much flair they 're not just boring they 're lackluster but the major league movies have never been about drama or tension they 've been about using baseball situations to generate laughs hc warren fouls off a fastball 1 and 1 wh are there lots of yuks in this one jb not one from start to finish i enjoyed the first major league because it was reasonably fresh and funny okay a lot of the jokes were sophomoric but they made me laugh the two sequels have n't just been stale but their humor quotient has been abysmally low even bob uecker 's once sharp one liners have turned lame and they 're the closest the film comes to being even vaguely amusing hc here 's the 1 1 pitch looooooong drive fair or foul foul ball the count goes to 1 and 2 wh does the film at least get the baseball details correct jb yes there are n't any glaring errors like there were in one of the best ever baseball movies the natural but i 'd gladly trade a technically accurate film for one with a good story believable characters or even a little genuine humor heck the naked gun is a better baseball comedy than major league back to the minors wh it 's nice to see old friends one more time is n't it like cerrano tanaka and dorn jb depends on whether you really care that anyone is back there are n't any real characters here just an assortment of cliched oddballs yeah the voodoo hitter the catcher who ca n't throw back to the pitcher the japanese player and the conceited player turned owner have all returned but who really cares they have no depth notable absences include tom berenger 's veteran and charlie sheen 's wild thing we do n't really miss them though hc breaking ball low and outside 2 and 2 wh so you 're saying that we should give this one a miss jb that 's right to use baseball terminology it 's a three pitch strikeout if you 're looking for a good movie that involves baseball try popping the natural field of dreams bull durham or even the first major league into the vcr actually this is an oddly timed release since baseball fans are likely to be spending more time in parks than in theaters even the minor league seasons are already underway do n't bother with major league back to the minors it 's a wretched time- waster wh thanks for the advice jb you 're welcome hc and here 's the 2 2 pitch fouled back right into this booth hey jim heads up oops somebody better get him some ice for that he may be good at deflecting bad baseball movies but he needs to learn not to duck into foul balls odd how warren seemed to aim that ball right at him almost as if he has a grudge to settle anyway back to the action on the field\n"
          ]
        }
      ]
    },
    {
      "cell_type": "code",
      "source": [
        "def split(texts, labels, proportion):\n",
        "    train_data = []\n",
        "    train_targets = []\n",
        "    test_data = []\n",
        "    test_targets = []\n",
        "    for i in range(0, len(texts)):\n",
        "        if i < proportion*len(texts):\n",
        "            train_data.append(texts[i])\n",
        "            train_targets.append(labels[i])\n",
        "        else:\n",
        "            test_data.append(texts[i])\n",
        "            test_targets.append(labels[i])\n",
        "    return train_data, train_targets, test_data, test_targets\n",
        "\n",
        "train_data, train_targets, test_data, test_targets = split(texts, labels, 0.8)\n",
        "\n",
        "print(len(train_data)) # 1600?\n",
        "print(len(train_targets)) # 1600?\n",
        "print(len(test_data)) # 400?\n",
        "print(len(test_targets)) # 400?\n",
        "print(train_targets[:10]) # print out the targets for the first 10 training reviews\n",
        "print(test_targets[:10]) # print out the targets for the first 10 test reviews"
      ],
      "metadata": {
        "id": "4rrbFoEEbKiA",
        "colab": {
          "base_uri": "https://localhost:8080/"
        },
        "outputId": "86ddc03c-1ab6-40a7-9cad-cf73adafd2f1"
      },
      "execution_count": null,
      "outputs": [
        {
          "output_type": "stream",
          "name": "stdout",
          "text": [
            "938\n",
            "938\n",
            "234\n",
            "234\n",
            "[-1, -1, -1, -1, 1, -1, -1, 1, -1, -1]\n",
            "[-1, -1, -1, 1, 1, -1, -1, -1, 1, -1]\n"
          ]
        }
      ]
    },
    {
      "cell_type": "code",
      "source": [
        "from sklearn.feature_extraction.text import CountVectorizer\n",
        "\n",
        "count_vect = CountVectorizer()\n",
        "train_counts = count_vect.fit_transform(train_data)\n",
        "# Check the dimensionality\n",
        "print(train_counts.shape)"
      ],
      "metadata": {
        "id": "qyNehlS8bKjl",
        "colab": {
          "base_uri": "https://localhost:8080/"
        },
        "outputId": "42d8078a-57d8-4df8-b882-e9e98fd0cd56"
      },
      "execution_count": null,
      "outputs": [
        {
          "output_type": "stream",
          "name": "stdout",
          "text": [
            "(938, 28011)\n"
          ]
        }
      ]
    },
    {
      "cell_type": "code",
      "source": [
        "#print(train_counts[:11])"
      ],
      "metadata": {
        "id": "ifR5_TZwbKlW"
      },
      "execution_count": null,
      "outputs": []
    },
    {
      "cell_type": "code",
      "source": [
        "#count_vect.get_feature_names()[33682]"
      ],
      "metadata": {
        "id": "jSMGBVYCbKnG"
      },
      "execution_count": null,
      "outputs": []
    },
    {
      "cell_type": "code",
      "source": [
        "#count_vect.get_feature_names()[30800]"
      ],
      "metadata": {
        "id": "IGldS6OMbKo2"
      },
      "execution_count": null,
      "outputs": []
    },
    {
      "cell_type": "code",
      "source": [
        "#print(count_vect.inverse_transform(train_data))"
      ],
      "metadata": {
        "id": "maJwS7FObKqu"
      },
      "execution_count": null,
      "outputs": []
    },
    {
      "cell_type": "code",
      "source": [
        "from sklearn.preprocessing import Binarizer\n",
        "\n",
        "transformer = Binarizer()\n",
        "train_bin = transformer.fit_transform(train_counts)\n",
        "print(train_bin.shape)\n",
        "print(train_bin[0])"
      ],
      "metadata": {
        "id": "YKdhwF_XbVlz",
        "colab": {
          "base_uri": "https://localhost:8080/"
        },
        "outputId": "46f06f69-3079-423f-96bd-66d189e6ef44"
      },
      "execution_count": null,
      "outputs": [
        {
          "output_type": "stream",
          "name": "stdout",
          "text": [
            "(938, 28011)\n",
            "  (0, 9862)\t1\n",
            "  (0, 14930)\t1\n",
            "  (0, 14102)\t1\n",
            "  (0, 2148)\t1\n",
            "  (0, 19718)\t1\n",
            "  (0, 3254)\t1\n",
            "  (0, 9039)\t1\n",
            "  (0, 18488)\t1\n",
            "  (0, 3545)\t1\n",
            "  (0, 14982)\t1\n",
            "  (0, 11162)\t1\n",
            "  (0, 3679)\t1\n",
            "  (0, 1113)\t1\n",
            "  (0, 4780)\t1\n",
            "  (0, 27394)\t1\n",
            "  (0, 11178)\t1\n",
            "  (0, 27568)\t1\n",
            "  (0, 23226)\t1\n",
            "  (0, 10849)\t1\n",
            "  (0, 4864)\t1\n",
            "  (0, 13134)\t1\n",
            "  (0, 2449)\t1\n",
            "  (0, 11254)\t1\n",
            "  (0, 1544)\t1\n",
            "  (0, 27188)\t1\n",
            "  :\t:\n",
            "  (0, 676)\t1\n",
            "  (0, 27271)\t1\n",
            "  (0, 9699)\t1\n",
            "  (0, 11482)\t1\n",
            "  (0, 11279)\t1\n",
            "  (0, 26421)\t1\n",
            "  (0, 17213)\t1\n",
            "  (0, 23064)\t1\n",
            "  (0, 11542)\t1\n",
            "  (0, 23063)\t1\n",
            "  (0, 12053)\t1\n",
            "  (0, 15295)\t1\n",
            "  (0, 6338)\t1\n",
            "  (0, 1945)\t1\n",
            "  (0, 14117)\t1\n",
            "  (0, 7556)\t1\n",
            "  (0, 2024)\t1\n",
            "  (0, 17073)\t1\n",
            "  (0, 11859)\t1\n",
            "  (0, 21861)\t1\n",
            "  (0, 805)\t1\n",
            "  (0, 942)\t1\n",
            "  (0, 10808)\t1\n",
            "  (0, 22030)\t1\n",
            "  (0, 1272)\t1\n"
          ]
        }
      ]
    },
    {
      "cell_type": "code",
      "source": [
        "from sklearn.naive_bayes import MultinomialNB\n",
        "\n",
        "clf = MultinomialNB().fit(train_counts, train_targets)\n",
        "test_counts = count_vect.transform(test_data)\n",
        "predicted = clf.predict(test_counts)\n",
        "\n",
        "for text, label in list(zip(test_data, predicted))[:10]:\n",
        "    if label==1:\n",
        "        print('%r => %s' % (text[:100], \"pos\"))\n",
        "    else:\n",
        "        print('%r => %s' % (text[:100], \"neg\"))"
      ],
      "metadata": {
        "id": "TBNIwvYBbVnM",
        "colab": {
          "base_uri": "https://localhost:8080/"
        },
        "outputId": "7575c242-3ddb-4e06-f726-65f9a6395ea0"
      },
      "execution_count": null,
      "outputs": [
        {
          "output_type": "stream",
          "name": "stdout",
          "text": [
            "'capsule one of the ten worst movies ever made christopher lambert vs evil ninjas in modern day japan' => neg\n",
            "'synopsis original jurassic park survivor alan grant neill is tricked by paul and amanda kirby macy a' => neg\n",
            "'georges polti once wrote a paper called the thirty six dramatic situations in which he asserted the ' => neg\n",
            "'more than forty years ago the sword and sandals genre of historical epic ruled the box office during' => pos\n",
            "\"no matter what you suspect this is n't your usual action thriller the usual suspects is an intellige\" => neg\n",
            "'the u s army utilizes a number of books known as field manuals which stipulate the specific way in w' => neg\n",
            "'this film is worth seeing for those who want to see what mick jagger looks like when sporting an abe' => neg\n",
            "\"while watching loser it occurred to me that amy heckerling 's true genius as a film maker is casting\" => neg\n",
            "'note that followups are directed to rec arts movies current films and rec arts movies startrek curre' => neg\n",
            "\"the characters in jonathan lynn 's the whole nine yards yet another in an endless recent string of m\" => neg\n"
          ]
        }
      ]
    },
    {
      "cell_type": "code",
      "source": [
        "from sklearn.pipeline import Pipeline\n",
        "from sklearn.preprocessing import Binarizer\n",
        "\n",
        "text_clf = Pipeline([('vect', CountVectorizer(min_df=10, max_df=0.5)),\n",
        "                     ('binarizer', Binarizer()), # include this for detecting presence-absence of features\n",
        "                     ('clf', MultinomialNB())\n",
        "                    ])\n",
        "\n",
        "text_clf.fit(train_data, train_targets)\n",
        "print(text_clf)\n",
        "predicted = text_clf.predict(test_data)"
      ],
      "metadata": {
        "id": "iul4a915bVo6",
        "colab": {
          "base_uri": "https://localhost:8080/"
        },
        "outputId": "41cd25ba-214c-4336-bd9b-5784538374f3"
      },
      "execution_count": null,
      "outputs": [
        {
          "output_type": "stream",
          "name": "stdout",
          "text": [
            "Pipeline(steps=[('vect', CountVectorizer(max_df=0.5, min_df=10)),\n",
            "                ('binarizer', Binarizer()), ('clf', MultinomialNB())])\n"
          ]
        }
      ]
    },
    {
      "cell_type": "code",
      "source": [
        "from sklearn import metrics\n",
        "\n",
        "print(\"\\nConfusion matrix:\")\n",
        "print(metrics.confusion_matrix(test_targets, predicted))\n",
        "print(metrics.classification_report(test_targets, predicted))"
      ],
      "metadata": {
        "id": "7t_XA6BZbVqu",
        "colab": {
          "base_uri": "https://localhost:8080/"
        },
        "outputId": "27552461-d07c-493d-87d7-88ce0d4e5977"
      },
      "execution_count": null,
      "outputs": [
        {
          "output_type": "stream",
          "name": "stdout",
          "text": [
            "\n",
            "Confusion matrix:\n",
            "[[192  10]\n",
            " [ 20  12]]\n",
            "              precision    recall  f1-score   support\n",
            "\n",
            "          -1       0.91      0.95      0.93       202\n",
            "           1       0.55      0.38      0.44        32\n",
            "\n",
            "    accuracy                           0.87       234\n",
            "   macro avg       0.73      0.66      0.69       234\n",
            "weighted avg       0.86      0.87      0.86       234\n",
            "\n"
          ]
        }
      ]
    },
    {
      "cell_type": "code",
      "source": [
        "from sklearn.model_selection import cross_val_score, cross_val_predict\n",
        "\n",
        "scores = cross_val_score(text_clf, texts, labels, cv=10)\n",
        "print(scores)\n",
        "print(\"Accuracy: \" + str(sum(scores)/10))\n",
        "predicted = cross_val_predict(text_clf, texts, labels, cv=10)\n",
        "print(\"\\nConfusion matrix:\")\n",
        "print(metrics.confusion_matrix(labels, predicted))\n",
        "print(metrics.classification_report(labels, predicted))"
      ],
      "metadata": {
        "id": "INtThcOIbVsc",
        "colab": {
          "base_uri": "https://localhost:8080/"
        },
        "outputId": "d53e9e25-1baa-4841-d06d-bc357f1d851a"
      },
      "execution_count": null,
      "outputs": [
        {
          "output_type": "stream",
          "name": "stdout",
          "text": [
            "[0.87288136 0.90677966 0.90598291 0.90598291 0.83760684 0.90598291\n",
            " 0.8974359  0.90598291 0.84615385 0.87179487]\n",
            "Accuracy: 0.8856584093872231\n",
            "\n",
            "Confusion matrix:\n",
            "[[960  40]\n",
            " [ 94  78]]\n",
            "              precision    recall  f1-score   support\n",
            "\n",
            "          -1       0.91      0.96      0.93      1000\n",
            "           1       0.66      0.45      0.54       172\n",
            "\n",
            "    accuracy                           0.89      1172\n",
            "   macro avg       0.79      0.71      0.74      1172\n",
            "weighted avg       0.87      0.89      0.88      1172\n",
            "\n"
          ]
        }
      ]
    },
    {
      "cell_type": "code",
      "source": [
        "%matplotlib inline\n",
        "\n",
        "import matplotlib.pyplot as plt\n",
        "\n",
        "a = [\"Sentiment Lexicons\", \"SentiWordNet\", \"ML, unigrams\"]\n",
        "index = range(len(a))\n",
        "b = [64.75, 68.80, 83.60] # Accuracy scores for the compared methods\n",
        "\n",
        "fig, ax = plt.subplots()\n",
        "axes = plt.gca()\n",
        "# Let's set 50 as the lower bound as the majority class baseline is at 50 for this dataset\n",
        "axes.set_ylim([50,90])\n",
        "\n",
        "ax.bar(index, b, color=['#0A40A4', '#61A4F6', '#DB025B'])\n",
        "plt.xticks(index, a)\n",
        "\n",
        "plt.show()\n",
        "\n",
        "import matplotlib\n",
        "matplotlib.axes.Axes.plot\n",
        "matplotlib.pyplot.plot\n",
        "matplotlib.axes.Axes.legend\n",
        "matplotlib.pyplot.legend"
      ],
      "metadata": {
        "id": "CPGQpGR5bVub",
        "colab": {
          "base_uri": "https://localhost:8080/",
          "height": 286
        },
        "outputId": "0ade36ae-0a89-4459-9d12-1a9404d479d4"
      },
      "execution_count": null,
      "outputs": [
        {
          "output_type": "display_data",
          "data": {
            "text/plain": [
              "<Figure size 432x288 with 1 Axes>"
            ],
            "image/png": "[encoded data removed]"
          },
          "metadata": {
            "needs_background": "light"
          }
        },
        {
          "output_type": "execute_result",
          "data": {
            "text/plain": [
              "<function matplotlib.pyplot.legend(*args, **kwargs)>"
            ]
          },
          "metadata": {},
          "execution_count": 49
        }
      ]
    },
    {
      "cell_type": "code",
      "source": [
        "text_clf = Pipeline([('vect', CountVectorizer(ngram_range=(1, 3))),\n",
        "                     ('binarizer', Binarizer()), #presence-absence of features\n",
        "                     ('clf', MultinomialNB())\n",
        "                    ])\n",
        "\n",
        "text_clf.fit(train_data, train_targets)\n",
        "print(text_clf)\n",
        "predicted = text_clf.predict(test_data)"
      ],
      "metadata": {
        "id": "TwcliKC1bf1x",
        "colab": {
          "base_uri": "https://localhost:8080/"
        },
        "outputId": "34c087b5-1302-4e3b-ecfe-4febe72f1393"
      },
      "execution_count": null,
      "outputs": [
        {
          "output_type": "stream",
          "name": "stdout",
          "text": [
            "Pipeline(steps=[('vect', CountVectorizer(ngram_range=(1, 3))),\n",
            "                ('binarizer', Binarizer()), ('clf', MultinomialNB())])\n"
          ]
        }
      ]
    },
    {
      "cell_type": "code",
      "source": [
        "print(\"\\nConfusion matrix:\")\n",
        "print(metrics.confusion_matrix(test_targets, predicted))\n",
        "print(metrics.classification_report(test_targets, predicted))"
      ],
      "metadata": {
        "id": "zLPMc1ZHbf3v",
        "colab": {
          "base_uri": "https://localhost:8080/"
        },
        "outputId": "b0ecdccd-791a-42d6-9d39-3ffbc43c7d03"
      },
      "execution_count": null,
      "outputs": [
        {
          "output_type": "stream",
          "name": "stdout",
          "text": [
            "\n",
            "Confusion matrix:\n",
            "[[202   0]\n",
            " [ 32   0]]\n",
            "              precision    recall  f1-score   support\n",
            "\n",
            "          -1       0.86      1.00      0.93       202\n",
            "           1       0.00      0.00      0.00        32\n",
            "\n",
            "    accuracy                           0.86       234\n",
            "   macro avg       0.43      0.50      0.46       234\n",
            "weighted avg       0.75      0.86      0.80       234\n",
            "\n"
          ]
        },
        {
          "output_type": "stream",
          "name": "stderr",
          "text": [
            "/usr/local/lib/python3.8/dist-packages/sklearn/metrics/_classification.py:1344: UndefinedMetricWarning: Precision and F-score are ill-defined and being set to 0.0 in labels with no predicted samples. Use `zero_division` parameter to control this behavior.\n",
            "  _warn_prf(average, modifier, msg_start, len(result))\n",
            "/usr/local/lib/python3.8/dist-packages/sklearn/metrics/_classification.py:1344: UndefinedMetricWarning: Precision and F-score are ill-defined and being set to 0.0 in labels with no predicted samples. Use `zero_division` parameter to control this behavior.\n",
            "  _warn_prf(average, modifier, msg_start, len(result))\n",
            "/usr/local/lib/python3.8/dist-packages/sklearn/metrics/_classification.py:1344: UndefinedMetricWarning: Precision and F-score are ill-defined and being set to 0.0 in labels with no predicted samples. Use `zero_division` parameter to control this behavior.\n",
            "  _warn_prf(average, modifier, msg_start, len(result))\n"
          ]
        }
      ]
    },
    {
      "cell_type": "code",
      "source": [
        "scores = cross_val_score(text_clf, texts, labels, cv=10)\n",
        "print(scores)\n",
        "print(\"Accuracy: \" + str(sum(scores)/10))\n",
        "predicted = cross_val_predict(text_clf, texts, labels, cv=10)\n",
        "print(\"\\nConfusion matrix:\")\n",
        "print(metrics.confusion_matrix(labels, predicted))\n",
        "print(metrics.classification_report(labels, predicted))"
      ],
      "metadata": {
        "id": "2d_VD4RZbf5g",
        "colab": {
          "base_uri": "https://localhost:8080/"
        },
        "outputId": "8d144f25-3a06-4a43-df52-79162504dee5"
      },
      "execution_count": null,
      "outputs": [
        {
          "output_type": "stream",
          "name": "stdout",
          "text": [
            "[0.84745763 0.84745763 0.85470085 0.85470085 0.85470085 0.85470085\n",
            " 0.85470085 0.85470085 0.85470085 0.85470085]\n",
            "Accuracy: 0.8532522091844124\n",
            "\n",
            "Confusion matrix:\n",
            "[[1000    0]\n",
            " [ 172    0]]\n",
            "              precision    recall  f1-score   support\n",
            "\n",
            "          -1       0.85      1.00      0.92      1000\n",
            "           1       0.00      0.00      0.00       172\n",
            "\n",
            "    accuracy                           0.85      1172\n",
            "   macro avg       0.43      0.50      0.46      1172\n",
            "weighted avg       0.73      0.85      0.79      1172\n",
            "\n"
          ]
        },
        {
          "output_type": "stream",
          "name": "stderr",
          "text": [
            "/usr/local/lib/python3.8/dist-packages/sklearn/metrics/_classification.py:1344: UndefinedMetricWarning: Precision and F-score are ill-defined and being set to 0.0 in labels with no predicted samples. Use `zero_division` parameter to control this behavior.\n",
            "  _warn_prf(average, modifier, msg_start, len(result))\n",
            "/usr/local/lib/python3.8/dist-packages/sklearn/metrics/_classification.py:1344: UndefinedMetricWarning: Precision and F-score are ill-defined and being set to 0.0 in labels with no predicted samples. Use `zero_division` parameter to control this behavior.\n",
            "  _warn_prf(average, modifier, msg_start, len(result))\n",
            "/usr/local/lib/python3.8/dist-packages/sklearn/metrics/_classification.py:1344: UndefinedMetricWarning: Precision and F-score are ill-defined and being set to 0.0 in labels with no predicted samples. Use `zero_division` parameter to control this behavior.\n",
            "  _warn_prf(average, modifier, msg_start, len(result))\n"
          ]
        }
      ]
    },
    {
      "cell_type": "code",
      "source": [
        "%matplotlib inline\n",
        "\n",
        "import matplotlib.pyplot as plt\n",
        "\n",
        "a = [\"Sentiment\\nLexicons\", \"Senti-\\nWordNet\", \"Unigrams\", \"1-2-grams\", \"1-3-grams\"]\n",
        "index = range(len(a))\n",
        "b = [64.75, 68.80, 83.60, 85.05, 85.90] # Accuracy scores for the compared methods\n",
        "\n",
        "fig, ax = plt.subplots()\n",
        "axes = plt.gca()\n",
        "# Let's set 50 as the lower bound as the majority class baseline is at 50 for this dataset\n",
        "axes.set_ylim([50,90])\n",
        "\n",
        "ax.bar(index, b, color=['#0A40A4', '#61A4F6', '#DB025B', '#BE33FF', '#811883'])\n",
        "plt.xticks(index, a)\n",
        "\n",
        "plt.show()\n",
        "\n",
        "import matplotlib\n",
        "matplotlib.axes.Axes.plot\n",
        "matplotlib.pyplot.plot\n",
        "matplotlib.axes.Axes.legend\n",
        "matplotlib.pyplot.legend"
      ],
      "metadata": {
        "id": "Kh8-AYw4bf7X",
        "colab": {
          "base_uri": "https://localhost:8080/",
          "height": 298
        },
        "outputId": "54193024-bc42-4db5-88eb-8084b54e50e3"
      },
      "execution_count": null,
      "outputs": [
        {
          "output_type": "display_data",
          "data": {
            "text/plain": [
              "<Figure size 432x288 with 1 Axes>"
            ],
            "image/png": "[encoded data removed]"
          },
          "metadata": {
            "needs_background": "light"
          }
        },
        {
          "output_type": "execute_result",
          "data": {
            "text/plain": [
              "<function matplotlib.pyplot.legend(*args, **kwargs)>"
            ]
          },
          "metadata": {},
          "execution_count": 83
        }
      ]
    },
    {
      "cell_type": "markdown",
      "source": [
        "#Comparison with additional classifier techniques\n",
        "Now, we will compate the decision tree approach outlined above with a Multinomial Naive Bayes, Logistic Regression and Linear Support Vector Classifier."
      ],
      "metadata": {
        "id": "7-XbqtLh8Pzt"
      }
    },
    {
      "cell_type": "code",
      "source": [
        "import pandas as pd\n",
        "import numpy as np\n",
        "from sklearn.feature_extraction.text import TfidfVectorizer\n",
        "from sklearn.model_selection import cross_val_score, GridSearchCV\n",
        "from sklearn.naive_bayes import MultinomialNB\n",
        "from sklearn.linear_model import LogisticRegression\n",
        "from sklearn.svm import LinearSVC\n",
        "from sklearn.model_selection import train_test_split\n",
        "import matplotlib.pyplot as plt\n",
        "from sklearn.pipeline import Pipeline\n",
        "from sklearn.metrics import classification_report\n",
        "from sklearn.utils import resample\n",
        "from nltk.corpus import stopwords\n",
        "from nltk.tokenize import word_tokenize\n",
        "import string\n",
        "import re\n",
        "from tensorflow.keras.models import Sequential\n",
        "from tensorflow.keras.layers import Dense, Dropout\n",
        "from tensorflow.keras.layers import Embedding\n",
        "from tensorflow.keras.preprocessing.text import Tokenizer\n",
        "from tensorflow.keras.preprocessing.sequence import pad_sequences"
      ],
      "metadata": {
        "id": "RXAoG2Edbf9I"
      },
      "execution_count": null,
      "outputs": []
    },
    {
      "cell_type": "code",
      "source": [
        "classifiers = [\n",
        "    MultinomialNB(),\n",
        "    LogisticRegression(),\n",
        "    LinearSVC()\n",
        "]"
      ],
      "metadata": {
        "id": "jgabzjQHbf_A"
      },
      "execution_count": null,
      "outputs": []
    },
    {
      "cell_type": "code",
      "source": [
        "vectorizer = TfidfVectorizer()\n",
        "X_train = vectorizer.fit_transform(train_data)\n",
        "X_test = vectorizer.transform(test_data)"
      ],
      "metadata": {
        "id": "1QrbNqNh7laL"
      },
      "execution_count": null,
      "outputs": []
    },
    {
      "cell_type": "code",
      "source": [
        "# Test each classifier using 10-fold cross-validation\n",
        "results = []\n",
        "for clf in classifiers:\n",
        "    scores = cross_val_score(clf, X_train, train_targets, cv=10)\n",
        "    results.append(scores.mean()*100)\n",
        "    clf.fit(X_train, train_targets)\n",
        "    test_score = clf.score(X_test, test_targets)\n",
        "    print(f\"Classifier: {clf.__class__.__name__}\")\n",
        "    print(f\"Training Accuracy: {scores.mean():.4f} (+/- {scores.std() * 2:.4f})\")\n",
        "    print(f\"Test Accuracy: {test_score:.4f}\\n\")"
      ],
      "metadata": {
        "id": "m7QkdlFcbgA9",
        "colab": {
          "base_uri": "https://localhost:8080/"
        },
        "outputId": "bf10ea57-3cd5-4ab2-a774-e0807b60b994"
      },
      "execution_count": null,
      "outputs": [
        {
          "output_type": "stream",
          "name": "stdout",
          "text": [
            "Classifier: MultinomialNB\n",
            "Training Accuracy: 0.8507 (+/- 0.0013)\n",
            "Test Accuracy: 0.8632\n",
            "\n",
            "Classifier: LogisticRegression\n",
            "Training Accuracy: 0.8507 (+/- 0.0013)\n",
            "Test Accuracy: 0.8632\n",
            "\n",
            "Classifier: LinearSVC\n",
            "Training Accuracy: 0.8614 (+/- 0.0169)\n",
            "Test Accuracy: 0.8803\n",
            "\n"
          ]
        }
      ]
    },
    {
      "cell_type": "code",
      "source": [
        "b = [64.75, 68.80, 83.60, 85.05, 85.90]\n",
        "for value in b:\n",
        "  results.append(value)"
      ],
      "metadata": {
        "id": "mYE89967CzH1"
      },
      "execution_count": null,
      "outputs": []
    },
    {
      "cell_type": "code",
      "source": [
        "# Plot the results\n",
        "colors = np.random.rand(len(results), 3)\n",
        "\n",
        "x_labels = ['MultinomialNB', 'LogisticRegression', 'LinearSVC','Sentiment\\nLexicons','Senti-\\nWordNet', 'Unigrams', '1-2-grams', '1-3-grams']\n",
        "y_values = [results]\n",
        "fig, ax = plt.subplots(figsize=(14, 6))\n",
        "\n",
        "ax.bar(x_labels, results, color=colors)\n",
        "ax.grid(True, linestyle=':', linewidth='0.5', color='black',which='both')\n",
        "ax.set_title('Accuracy of Different Approaches')\n",
        "ax.set_xlabel('Classifier')\n",
        "ax.set_ylabel('Accuracy')\n",
        "plt.show()\n"
      ],
      "metadata": {
        "colab": {
          "base_uri": "https://localhost:8080/",
          "height": 416
        },
        "id": "Yue5pozcBxbR",
        "outputId": "1e0cc9e6-c695-4980-c0c2-04fb2e98d707"
      },
      "execution_count": null,
      "outputs": [
        {
          "output_type": "display_data",
          "data": {
            "text/plain": [
              "<Figure size 1008x432 with 1 Axes>"
            ],
            "image/png": "[encoded data removed]"
          },
          "metadata": {
            "needs_background": "light"
          }
        }
      ]
    },
    {
      "cell_type": "markdown",
      "source": [
        "## Testing Keras\n",
        "Building an NLP model with Keras."
      ],
      "metadata": {
        "id": "7bo4CaZ_JedK"
      }
    },
    {
      "cell_type": "markdown",
      "source": [],
      "metadata": {
        "id": "hhGbeTPC_G-c"
      }
    },
    {
      "cell_type": "code",
      "source": [
        "from keras.utils import to_categorical\n",
        "\n",
        "# Split the data into training and testing sets\n",
        "train_data, test_data, train_targets, test_targets = train_test_split(texts, labels, test_size=0.2, random_state=42)\n",
        "\n",
        "# Define the vectorizer\n",
        "vectorizer = CountVectorizer(ngram_range=(1, 3), stop_words='english')\n",
        "\n",
        "# Fit and transform the training data\n",
        "train_features = vectorizer.fit_transform(train_data)\n",
        "\n",
        "# Transform the testing data\n",
        "test_features = vectorizer.transform(test_data)\n",
        "\n",
        "# Define the classifiers to test\n",
        "classifiers = {\n",
        "    \"MultinomialNB\": MultinomialNB(),\n",
        "    \"LogisticRegression\": LogisticRegression(max_iter=5000),\n",
        "    \"LinearSVC\": LinearSVC(max_iter=5000),\n",
        "    \"NeuralNetwork\": Sequential([\n",
        "        Dense(64, activation='relu', input_shape=(train_features.shape[1],)),\n",
        "        Dropout(0.2),\n",
        "        Dense(1, activation='sigmoid')\n",
        "    ])\n",
        "}\n",
        "\n",
        "# Tokenize the text data\n",
        "tokenizer = Tokenizer(num_words=5000)\n",
        "tokenizer.fit_on_texts(train_data)\n",
        "\n",
        "# Convert the text data to sequences\n",
        "train_sequences = tokenizer.texts_to_sequences(train_data)\n",
        "test_sequences = tokenizer.texts_to_sequences(test_data)\n",
        "\n",
        "# Pad the sequences to a fixed length\n",
        "max_length = 100\n",
        "train_data = pad_sequences(train_sequences, maxlen=max_length)\n",
        "test_data = pad_sequences(test_sequences, maxlen=max_length)\n",
        "\n",
        "# Convert the target data to binary labels\n",
        "train_targets = to_categorical(train_targets)\n",
        "test_targets = to_categorical(test_targets)\n",
        "\n",
        "# Define the neural network model\n",
        "model = Sequential([\n",
        "    Dense(64, activation='relu', input_shape=(max_length,)),\n",
        "    Dropout(0.2),\n",
        "    Dense(2, activation='softmax')\n",
        "])\n",
        "\n",
        "# Compile the model\n",
        "model.compile(loss='binary_crossentropy', optimizer='adam', metrics=['accuracy'])\n",
        "\n",
        "# Train the model\n",
        "model.fit(train_data, train_targets, validation_data=(test_data, test_targets), epochs=5, batch_size=64)\n",
        "\n",
        "# Evaluate the model on the test data\n",
        "loss, accuracy = model.evaluate(test_data, test_targets)\n",
        "print(f\"Test accuracy: {accuracy:.4f}\")"
      ],
      "metadata": {
        "colab": {
          "base_uri": "https://localhost:8080/"
        },
        "id": "bkLTXLn9_ZYT",
        "outputId": "f88b9aad-5d15-4096-e705-ff3181aa68f8"
      },
      "execution_count": null,
      "outputs": [
        {
          "output_type": "stream",
          "name": "stdout",
          "text": [
            "Epoch 1/5\n",
            "15/15 [==============================] - 2s 24ms/step - loss: 168.2698 - accuracy: 0.8762 - val_loss: 1.6446 - val_accuracy: 1.0000\n",
            "Epoch 2/5\n",
            "15/15 [==============================] - 0s 9ms/step - loss: 3.1365 - accuracy: 1.0000 - val_loss: 0.0000e+00 - val_accuracy: 1.0000\n",
            "Epoch 3/5\n",
            "15/15 [==============================] - 0s 9ms/step - loss: 0.1204 - accuracy: 1.0000 - val_loss: 0.0000e+00 - val_accuracy: 1.0000\n",
            "Epoch 4/5\n",
            "15/15 [==============================] - 0s 9ms/step - loss: 0.5206 - accuracy: 1.0000 - val_loss: 0.0000e+00 - val_accuracy: 1.0000\n",
            "Epoch 5/5\n",
            "15/15 [==============================] - 0s 9ms/step - loss: 1.1674e-12 - accuracy: 1.0000 - val_loss: 0.0000e+00 - val_accuracy: 1.0000\n",
            "8/8 [==============================] - 0s 6ms/step - loss: 0.0000e+00 - accuracy: 1.0000\n",
            "Test accuracy: 1.0000\n"
          ]
        }
      ]
    }
  ]
}